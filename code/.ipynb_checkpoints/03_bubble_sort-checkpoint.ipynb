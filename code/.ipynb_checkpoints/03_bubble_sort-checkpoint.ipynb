{
 "cells": [
  {
   "cell_type": "code",
   "execution_count": 1,
   "id": "223d57ef-4ea1-4a2b-9763-05972d37639f",
   "metadata": {},
   "outputs": [],
   "source": [
    "import numpy as np"
   ]
  },
  {
   "cell_type": "code",
   "execution_count": 55,
   "id": "fd653a8c-edad-4e5c-9aac-33d2330aada6",
   "metadata": {},
   "outputs": [],
   "source": [
    "def bubble_sort(arr):\n",
    "    N = len(arr)\n",
    "    for i in range(N-1, 0, -1):\n",
    "        swap = False\n",
    "        for j in range(0, i):\n",
    "            if arr[j] > arr[j+1]:\n",
    "                temp = arr[j]\n",
    "                arr[j] = arr[j+1]\n",
    "                arr[j+1] = temp\n",
    "                swap = True\n",
    "        # print(i)\n",
    "        if swap == False:\n",
    "            break\n",
    "    return arr"
   ]
  },
  {
   "cell_type": "code",
   "execution_count": 56,
   "id": "bb24c0af-e341-4942-87ab-cfa7fd206a22",
   "metadata": {},
   "outputs": [],
   "source": [
    "a = np.random.randint(0, 100, 20)"
   ]
  },
  {
   "cell_type": "code",
   "execution_count": 57,
   "id": "d92f4566-9273-4102-993e-8521f616f043",
   "metadata": {},
   "outputs": [
    {
     "data": {
      "text/plain": [
       "array([47, 90, 92, 90, 17, 28, 10, 46, 22, 53, 22, 90, 93, 69, 82, 99, 82,\n",
       "       53, 99, 34])"
      ]
     },
     "execution_count": 57,
     "metadata": {},
     "output_type": "execute_result"
    }
   ],
   "source": [
    "a"
   ]
  },
  {
   "cell_type": "code",
   "execution_count": 58,
   "id": "59ca5fe0-09ee-4ea8-bcc6-840224ef0a58",
   "metadata": {},
   "outputs": [],
   "source": [
    "a = bubble_sort(a)"
   ]
  },
  {
   "cell_type": "code",
   "execution_count": 59,
   "id": "54a59c7b-1faa-4240-b02e-c2b7010ef343",
   "metadata": {},
   "outputs": [
    {
     "data": {
      "text/plain": [
       "array([10, 17, 22, 22, 28, 34, 46, 47, 53, 53, 69, 82, 82, 90, 90, 90, 92,\n",
       "       93, 99, 99])"
      ]
     },
     "execution_count": 59,
     "metadata": {},
     "output_type": "execute_result"
    }
   ],
   "source": [
    "a"
   ]
  },
  {
   "cell_type": "code",
   "execution_count": null,
   "id": "d4fc2b96-cd5e-48bb-a9c3-afe53d90a7eb",
   "metadata": {},
   "outputs": [],
   "source": []
  },
  {
   "cell_type": "code",
   "execution_count": null,
   "id": "d4248263-ed67-4e98-97bd-65bf60128ed4",
   "metadata": {},
   "outputs": [],
   "source": []
  },
  {
   "cell_type": "code",
   "execution_count": null,
   "id": "1105d0ab-4938-4f2f-bb50-e6e65348a777",
   "metadata": {},
   "outputs": [],
   "source": []
  },
  {
   "cell_type": "code",
   "execution_count": null,
   "id": "7e31386d-7b33-4959-8c63-b606601e01bd",
   "metadata": {},
   "outputs": [],
   "source": []
  }
 ],
 "metadata": {
  "kernelspec": {
   "display_name": "Python 3 (ipykernel)",
   "language": "python",
   "name": "python3"
  },
  "language_info": {
   "codemirror_mode": {
    "name": "ipython",
    "version": 3
   },
   "file_extension": ".py",
   "mimetype": "text/x-python",
   "name": "python",
   "nbconvert_exporter": "python",
   "pygments_lexer": "ipython3",
   "version": "3.10.13"
  }
 },
 "nbformat": 4,
 "nbformat_minor": 5
}
