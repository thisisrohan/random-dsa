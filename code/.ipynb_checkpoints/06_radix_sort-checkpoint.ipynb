{
 "cells": [
  {
   "cell_type": "code",
   "execution_count": 1,
   "id": "50190188-64a4-4fe6-8929-db70c7ace832",
   "metadata": {},
   "outputs": [],
   "source": [
    "import numpy as np"
   ]
  },
  {
   "cell_type": "code",
   "execution_count": 2,
   "id": "6741d993-c114-4ad8-b7cb-68f9cce34576",
   "metadata": {},
   "outputs": [],
   "source": [
    "def radix_sort(arr):\n",
    "    hist = np.zeros(shape=10, dtype=np.int32)\n",
    "    max_ = np.max(arr)\n",
    "    k = np.int32(np.log10(max_) + 1)\n",
    "\n",
    "    aux = np.empty_like(arr)\n",
    "    \n",
    "    for i in range(0, k):\n",
    "        tenexpi = 10**i\n",
    "        for j in range(len(arr)):\n",
    "            num = int(arr[j]//tenexpi)%10\n",
    "            hist[num] += 1\n",
    "\n",
    "        for j in range(1, 10):\n",
    "            hist[j] = hist[j-1] + hist[j]\n",
    "        print(hist, arr)\n",
    "        for j in range(len(arr)-1, -1, -1):\n",
    "            num = int(arr[j]//tenexpi)%10\n",
    "            hist[num] -= 1\n",
    "            aux[hist[num]] = arr[j]\n",
    "\n",
    "        hist[:] = 0\n",
    "\n",
    "        temp = aux\n",
    "        aux = arr\n",
    "        arr = temp\n",
    "\n",
    "    if k % 2 == 1:\n",
    "        # `arr` is pointing to originally defined `aux` array\n",
    "        aux[:] = arr[:]\n",
    "    \n",
    "    return"
   ]
  },
  {
   "cell_type": "code",
   "execution_count": 3,
   "id": "64677f42-dbe1-45c4-8358-51835fff1dab",
   "metadata": {},
   "outputs": [
    {
     "data": {
      "text/plain": [
       "array([32, 93, 35, 70, 94, 53, 84,  1, 24, 98, 15, 24, 65, 53, 83, 78, 61,\n",
       "       36, 81, 45])"
      ]
     },
     "execution_count": 3,
     "metadata": {},
     "output_type": "execute_result"
    }
   ],
   "source": [
    "a = np.random.randint(0, 100, 20)\n",
    "a"
   ]
  },
  {
   "cell_type": "code",
   "execution_count": 4,
   "id": "f866be81-0984-460e-b830-def236a8daff",
   "metadata": {},
   "outputs": [
    {
     "name": "stdout",
     "output_type": "stream",
     "text": [
      "[ 1  4  5  9 13 17 18 18 20 20] [32 93 35 70 94 53 84  1 24 98 15 24 65 53 83 78 61 36 81 45]\n",
      "[ 1  2  4  7  8 10 12 14 17 20] [70  1 61 81 32 93 53 53 83 94 84 24 24 35 15 65 45 36 98 78]\n"
     ]
    },
    {
     "data": {
      "text/plain": [
       "array([ 1, 15, 24, 24, 32, 35, 36, 45, 53, 53, 61, 65, 70, 78, 81, 83, 84,\n",
       "       93, 94, 98])"
      ]
     },
     "execution_count": 4,
     "metadata": {},
     "output_type": "execute_result"
    }
   ],
   "source": [
    "radix_sort(a)\n",
    "a"
   ]
  },
  {
   "cell_type": "code",
   "execution_count": null,
   "id": "9a681a73-43a2-46a0-a327-81b3611bb3db",
   "metadata": {},
   "outputs": [],
   "source": []
  },
  {
   "cell_type": "code",
   "execution_count": null,
   "id": "6a3b09d6-136f-4ce1-927e-5a7973e808f2",
   "metadata": {},
   "outputs": [],
   "source": []
  }
 ],
 "metadata": {
  "kernelspec": {
   "display_name": "Python 3 (ipykernel)",
   "language": "python",
   "name": "python3"
  },
  "language_info": {
   "codemirror_mode": {
    "name": "ipython",
    "version": 3
   },
   "file_extension": ".py",
   "mimetype": "text/x-python",
   "name": "python",
   "nbconvert_exporter": "python",
   "pygments_lexer": "ipython3",
   "version": "3.10.13"
  }
 },
 "nbformat": 4,
 "nbformat_minor": 5
}
