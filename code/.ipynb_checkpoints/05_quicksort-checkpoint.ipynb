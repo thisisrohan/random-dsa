{
 "cells": [
  {
   "cell_type": "code",
   "execution_count": 1,
   "id": "c675672b-548a-4e82-b1ed-e25445703e2b",
   "metadata": {},
   "outputs": [],
   "source": [
    "import numpy as np"
   ]
  },
  {
   "cell_type": "code",
   "execution_count": 2,
   "id": "2a0055e5-c804-4165-9b4c-8e58ec2590b7",
   "metadata": {},
   "outputs": [],
   "source": [
    "def partition(arr, low, high, pivot_idx=None):\n",
    "    if pivot_idx == None:\n",
    "        pivot_idx = high-1\n",
    "    pivot = arr[pivot_idx]\n",
    "\n",
    "    temp = arr[high-1]\n",
    "    arr[high-1] = arr[pivot_idx]\n",
    "    arr[pivot_idx] = temp\n",
    "\n",
    "    i = low\n",
    "\n",
    "    for j in range(low, high-1):\n",
    "        if arr[j] < pivot:\n",
    "            temp = arr[i]\n",
    "            arr[i] = arr[j]\n",
    "            arr[j] = temp\n",
    "            i += 1\n",
    "\n",
    "    temp = arr[i]\n",
    "    arr[i] = arr[high-1]\n",
    "    arr[high-1] = temp\n",
    "\n",
    "    return i"
   ]
  },
  {
   "cell_type": "code",
   "execution_count": 4,
   "id": "60252256-20e8-43e7-be0f-ee0e486c2e01",
   "metadata": {},
   "outputs": [],
   "source": [
    "def quicksort(arr, low=0, high=None):\n",
    "    if high == None:\n",
    "        high = len(arr)\n",
    "\n",
    "    if low < high:\n",
    "        partition_idx = partition(arr, low, high)\n",
    "        quicksort(arr, low, partition_idx)\n",
    "        quicksort(arr, partition_idx+1, high)\n",
    "\n",
    "    return"
   ]
  },
  {
   "cell_type": "code",
   "execution_count": 8,
   "id": "456fada7-3049-469e-a557-35dad7f57951",
   "metadata": {},
   "outputs": [
    {
     "data": {
      "text/plain": [
       "array([ 7, 60, 95, 30, 43, 83, 91,  4, 94, 23, 10, 48, 77, 79, 44, 28, 18,\n",
       "       76,  6, 13, 29, 38, 84, 73, 27, 16, 32, 48, 41, 65, 55,  0, 95, 18,\n",
       "       22, 28, 65, 54, 86, 51, 38, 65, 27, 10, 71, 61, 76,  8, 59, 66])"
      ]
     },
     "execution_count": 8,
     "metadata": {},
     "output_type": "execute_result"
    }
   ],
   "source": [
    "a = np.random.randint(0, 100, 50)\n",
    "a"
   ]
  },
  {
   "cell_type": "code",
   "execution_count": 9,
   "id": "9614a50f-38d9-492b-a825-d8c24b6a653c",
   "metadata": {},
   "outputs": [],
   "source": [
    "quicksort(a)"
   ]
  },
  {
   "cell_type": "code",
   "execution_count": 10,
   "id": "1814ea7c-482f-4747-943e-bea00ab319ea",
   "metadata": {},
   "outputs": [
    {
     "data": {
      "text/plain": [
       "array([ 0,  4,  6,  7,  8, 10, 10, 13, 16, 18, 18, 22, 23, 27, 27, 28, 28,\n",
       "       29, 30, 32, 38, 38, 41, 43, 44, 48, 48, 51, 54, 55, 59, 60, 61, 65,\n",
       "       65, 65, 66, 71, 73, 76, 76, 77, 79, 83, 84, 86, 91, 94, 95, 95])"
      ]
     },
     "execution_count": 10,
     "metadata": {},
     "output_type": "execute_result"
    }
   ],
   "source": [
    "a"
   ]
  },
  {
   "cell_type": "code",
   "execution_count": null,
   "id": "8f77b57d-bac0-4a41-9b05-06fea98a383b",
   "metadata": {},
   "outputs": [],
   "source": []
  }
 ],
 "metadata": {
  "kernelspec": {
   "display_name": "Python 3 (ipykernel)",
   "language": "python",
   "name": "python3"
  },
  "language_info": {
   "codemirror_mode": {
    "name": "ipython",
    "version": 3
   },
   "file_extension": ".py",
   "mimetype": "text/x-python",
   "name": "python",
   "nbconvert_exporter": "python",
   "pygments_lexer": "ipython3",
   "version": "3.10.13"
  }
 },
 "nbformat": 4,
 "nbformat_minor": 5
}
