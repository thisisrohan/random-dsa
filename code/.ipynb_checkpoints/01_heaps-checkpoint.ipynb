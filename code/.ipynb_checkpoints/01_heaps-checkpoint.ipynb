{
 "cells": [
  {
   "cell_type": "code",
   "execution_count": null,
   "id": "8c7ec33c-b0ff-4432-a24f-13d3cc6b5be1",
   "metadata": {},
   "outputs": [],
   "source": []
  },
  {
   "cell_type": "code",
   "execution_count": 14,
   "id": "1fdc6574-0c0a-4719-a06f-315a41943555",
   "metadata": {},
   "outputs": [],
   "source": [
    "class max_heap(object):\n",
    "    currHeapSize = 0\n",
    "    maxHeapSize = 0\n",
    "    def __init__(self, maxHeapSize):\n",
    "        self.maxHeapSize = maxHeapSize\n",
    "        self.data = [None]*self.maxHeapSize\n",
    "        self.currHeapSize = 0\n",
    "\n",
    "    def heapify(self, idx):\n",
    "        # heapify sub-heap at index `idx`\n",
    "\n",
    "        if self.currHeapSize == 0:\n",
    "            return\n",
    "        if idx < 0 or idx >= self.currHeapSize:\n",
    "            return\n",
    "\n",
    "        l = self.lChild(idx)\n",
    "        r = self.rChild(idx)\n",
    "\n",
    "        largest = idx\n",
    "        if l < self.currHeapSize and self.data[l] > self.data[largest]:\n",
    "            largest = l\n",
    "        if r < self.currHeapSize and self.data[r] > self.data[largest]:\n",
    "            largest = r\n",
    "        if largest != idx:\n",
    "            temp = self.data[idx]\n",
    "            self.data[idx] = self.data[largest]\n",
    "            self.data[largest] = temp\n",
    "            self.heapify(largest)\n",
    "        return\n",
    "\n",
    "    def lChild(self, idx):\n",
    "        return 2*idx+1\n",
    "\n",
    "    def rChild(self, idx):\n",
    "        return 2*idx+2\n",
    "\n",
    "    def parent(self, idx):\n",
    "        return (idx-1)//2 if idx > 0 else None\n",
    "\n",
    "    def insertData(self, val):\n",
    "        if self.currHeapSize >= self.maxHeapSize:\n",
    "            raise Exception(\"Data array full, cannot add more elements.\")\n",
    "            return\n",
    "\n",
    "        self.currHeapSize += 1\n",
    "        idx = self.currHeapSize - 1\n",
    "        self.data[idx] = val\n",
    "\n",
    "        while idx != 0:\n",
    "            parent = self.parent(idx)\n",
    "            if self.data[parent] < self.data[idx]:\n",
    "                temp = self.data[parent]\n",
    "                self.data[parent] = self.data[idx]\n",
    "                self.data[idx] = temp\n",
    "                idx = parent\n",
    "            else:\n",
    "                break\n",
    "\n",
    "    def removeMax(self):\n",
    "        if self.currHeapSize <= 0:\n",
    "            return None\n",
    "        if self.currHeapSize == 1:\n",
    "            self.currHeapSize -= 1\n",
    "            return self.data[0]\n",
    "\n",
    "        root = self.data[0]\n",
    "        self.currHeapSize -= 1\n",
    "        self.data[0] = self.data[self.currHeapSize]\n",
    "\n",
    "        self.heapify(0)\n",
    "\n",
    "        return root\n",
    "\n",
    "    def display(self):\n",
    "        lines, *_ = self._display_aux(0)\n",
    "        for line in lines:\n",
    "            print(line)\n",
    "\n",
    "    def _display_aux(self, idx):\n",
    "        \"\"\"Returns list of strings, width, height, and horizontal coordinate of the root.\"\"\"\n",
    "        # No child.\n",
    "        if self.rChild(idx) >= self.currHeapSize and self.lChild(idx) >= self.currHeapSize:\n",
    "            line = '{:d}'.format(self.data[idx])\n",
    "            width = len(line)\n",
    "            height = 1\n",
    "            middle = width // 2\n",
    "            return [line], width, height, middle\n",
    "\n",
    "        # Only left child.\n",
    "        if self.rChild(idx) >= self.currHeapSize:\n",
    "            lines, n, p, x = self._display_aux(self.lChild(idx))\n",
    "            s = '{:d}'.format(self.data[idx])\n",
    "            u = len(s)\n",
    "            first_line = (x + 1) * ' ' + (n - x - 1) * '_' + s\n",
    "            second_line = x * ' ' + '/' + (n - x - 1 + u) * ' '\n",
    "            shifted_lines = [line + u * ' ' for line in lines]\n",
    "            return [first_line, second_line] + shifted_lines, n + u, p + 2, n + u // 2\n",
    "\n",
    "        # Only right child.\n",
    "        if self.lChild(idx) >= self.currHeapSize:\n",
    "            lines, n, p, x = self._display_aux(self.rChild(idx))\n",
    "            s = '{:d}'.format(self.data[idx])\n",
    "            u = len(s)\n",
    "            first_line = s + x * '_' + (n - x) * ' '\n",
    "            second_line = (u + x) * ' ' + '\\\\' + (n - x - 1) * ' '\n",
    "            shifted_lines = [u * ' ' + line for line in lines]\n",
    "            return [first_line, second_line] + shifted_lines, n + u, p + 2, u // 2\n",
    "\n",
    "        # Two children.\n",
    "        left, n, p, x = self._display_aux(self.lChild(idx))\n",
    "        right, m, q, y = self._display_aux(self.rChild(idx))\n",
    "        s = '{:d}'.format(self.data[idx])\n",
    "        u = len(s)\n",
    "        first_line = (x + 1) * ' ' + (n - x - 1) * '_' + s + y * '_' + (m - y) * ' '\n",
    "        second_line = x * ' ' + '/' + (n - x - 1 + u + y) * ' ' + '\\\\' + (m - y - 1) * ' '\n",
    "        if p < q:\n",
    "            left += [n * ' '] * (q - p)\n",
    "        elif q < p:\n",
    "            right += [m * ' '] * (p - q)\n",
    "        zipped_lines = zip(left, right)\n",
    "        lines = [first_line, second_line] + [a + u * ' ' + b for a, b in zipped_lines]\n",
    "        return lines, n + m + u, max(p, q) + 2, n + u // 2"
   ]
  },
  {
   "cell_type": "code",
   "execution_count": 15,
   "id": "68ad8a37-729d-415a-96cd-232b53e69c69",
   "metadata": {},
   "outputs": [],
   "source": [
    "data = [1, 2412, 42, 35, 5, 34, 56, 4, 63, 1, 345]\n",
    "\n",
    "maxSize = 32\n",
    "heap = max_heap(maxSize)"
   ]
  },
  {
   "cell_type": "code",
   "execution_count": 16,
   "id": "829298c7-7936-42b8-9e28-4ae7e9cb2170",
   "metadata": {},
   "outputs": [
    {
     "name": "stdout",
     "output_type": "stream",
     "text": [
      "1\n",
      "\n",
      " 2412\n",
      "/    \n",
      "1    \n",
      "\n",
      " 2412_ \n",
      "/     \\\n",
      "1    42\n",
      "\n",
      "   2412_ \n",
      "  /     \\\n",
      " 35    42\n",
      "/        \n",
      "1        \n",
      "\n",
      "   _2412_ \n",
      "  /      \\\n",
      " 35     42\n",
      "/  \\      \n",
      "1  5      \n",
      "\n",
      "   _2412___ \n",
      "  /        \\\n",
      " 35       42\n",
      "/  \\     /  \n",
      "1  5    34  \n",
      "\n",
      "   _2412___   \n",
      "  /        \\  \n",
      " 35       56_ \n",
      "/  \\     /   \\\n",
      "1  5    34  42\n",
      "\n",
      "    _2412___   \n",
      "   /        \\  \n",
      "  35       56_ \n",
      " /  \\     /   \\\n",
      " 4  5    34  42\n",
      "/              \n",
      "1              \n",
      "\n",
      "      _2412___   \n",
      "     /        \\  \n",
      "   _63       56_ \n",
      "  /   \\     /   \\\n",
      " 35   5    34  42\n",
      "/  \\             \n",
      "1  4             \n",
      "\n",
      "      __2412___   \n",
      "     /         \\  \n",
      "   _63_       56_ \n",
      "  /    \\     /   \\\n",
      " 35    5    34  42\n",
      "/  \\  /           \n",
      "1  4  1           \n",
      "\n",
      "      _____2412___   \n",
      "     /            \\  \n",
      "   _345__        56_ \n",
      "  /      \\      /   \\\n",
      " 35     63     34  42\n",
      "/  \\   /  \\          \n",
      "1  4   1  5          \n",
      "\n"
     ]
    }
   ],
   "source": [
    "for d in data:\n",
    "    heap.insertData(d)\n",
    "    heap.display()\n",
    "    print(\"\")"
   ]
  },
  {
   "cell_type": "code",
   "execution_count": 17,
   "id": "e33f5050-8011-4ee0-bd6e-d21c10326441",
   "metadata": {},
   "outputs": [
    {
     "data": {
      "text/plain": [
       "[2412, 345, 56, 35, 63, 34, 42, 1, 4, 1, 5]"
      ]
     },
     "execution_count": 17,
     "metadata": {},
     "output_type": "execute_result"
    }
   ],
   "source": [
    "heap.data[0:heap.currHeapSize]"
   ]
  },
  {
   "cell_type": "code",
   "execution_count": 18,
   "id": "850c9fb2-de66-42db-bc52-39f9814b5fc7",
   "metadata": {},
   "outputs": [
    {
     "name": "stdout",
     "output_type": "stream",
     "text": [
      "      __345___   \n",
      "     /        \\  \n",
      "   _63_      56_ \n",
      "  /    \\    /   \\\n",
      " 35    5   34  42\n",
      "/  \\  /          \n",
      "1  4  1          \n"
     ]
    }
   ],
   "source": [
    "heap.removeMax()\n",
    "heap.display()"
   ]
  },
  {
   "cell_type": "code",
   "execution_count": 19,
   "id": "82d21bdd-7ce2-42f6-9b4b-f3f9d14f03af",
   "metadata": {},
   "outputs": [
    {
     "data": {
      "text/plain": [
       "[345, 63, 56, 35, 5, 34, 42, 1, 4, 1]"
      ]
     },
     "execution_count": 19,
     "metadata": {},
     "output_type": "execute_result"
    }
   ],
   "source": [
    "heap.data[0:heap.currHeapSize]"
   ]
  },
  {
   "cell_type": "code",
   "execution_count": null,
   "id": "8c19d146-113e-4717-a2aa-9cbe1dec13d7",
   "metadata": {},
   "outputs": [],
   "source": []
  }
 ],
 "metadata": {
  "kernelspec": {
   "display_name": "Python 3 (ipykernel)",
   "language": "python",
   "name": "python3"
  },
  "language_info": {
   "codemirror_mode": {
    "name": "ipython",
    "version": 3
   },
   "file_extension": ".py",
   "mimetype": "text/x-python",
   "name": "python",
   "nbconvert_exporter": "python",
   "pygments_lexer": "ipython3",
   "version": "3.10.13"
  }
 },
 "nbformat": 4,
 "nbformat_minor": 5
}
