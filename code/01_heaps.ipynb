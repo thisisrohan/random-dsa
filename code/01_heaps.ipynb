{
 "cells": [
  {
   "cell_type": "code",
   "execution_count": null,
   "id": "8c7ec33c-b0ff-4432-a24f-13d3cc6b5be1",
   "metadata": {},
   "outputs": [],
   "source": []
  },
  {
   "cell_type": "code",
   "execution_count": 34,
   "id": "1fdc6574-0c0a-4719-a06f-315a41943555",
   "metadata": {},
   "outputs": [],
   "source": [
    "class max_heap(object):\n",
    "    currHeapSize = 0\n",
    "    maxHeapSize = 0\n",
    "    def __init__(self, maxHeapSize):\n",
    "        self.maxHeapSize = maxHeapSize\n",
    "        self.data = [None]*self.maxHeapSize\n",
    "        self.currHeapSize = 0\n",
    "\n",
    "    def heapify(self, idx):\n",
    "        # heapify sub-heap at index `idx`\n",
    "\n",
    "        if self.currHeapSize == 0:\n",
    "            return\n",
    "        if idx < 0 or idx >= self.currHeapSize:\n",
    "            return\n",
    "\n",
    "        l = self.lChild(idx)\n",
    "        r = self.rChild(idx)\n",
    "\n",
    "        largest = idx\n",
    "        if l < self.currHeapSize and self.data[l] > self.data[idx]:\n",
    "            largest = l\n",
    "        if r < self.currHeapSize and self.data[r] > self.data[idx]:\n",
    "            largest = r\n",
    "        if largest != idx:\n",
    "            temp = self.data[idx]\n",
    "            self.data[idx] = self.data[largest]\n",
    "            self.data[largest] = temp\n",
    "            self.heapify(idx)\n",
    "        return\n",
    "\n",
    "    def lChild(self, idx):\n",
    "        return 2*idx+1\n",
    "\n",
    "    def rChild(self, idx):\n",
    "        return 2*idx+2\n",
    "\n",
    "    def parent(self, idx):\n",
    "        return (idx-1)//2 if idx > 0 else None\n",
    "\n",
    "    def insertData(self, val):\n",
    "        if self.currHeapSize >= self.maxHeapSize:\n",
    "            raise Exception(\"Data array full, cannot add more elements.\")\n",
    "            return\n",
    "\n",
    "        self.currHeapSize += 1\n",
    "        idx = self.currHeapSize - 1\n",
    "        self.data[idx] = val\n",
    "\n",
    "        while idx != 0:\n",
    "            parent = self.parent(idx)\n",
    "            if self.data[parent] < self.data[idx]:\n",
    "                temp = self.data[parent]\n",
    "                self.data[parent] = self.data[idx]\n",
    "                self.data[idx] = temp\n",
    "                idx = parent\n",
    "            else:\n",
    "                break\n",
    "\n",
    "    def removeMax(self):\n",
    "        if self.currHeapSize <= 0:\n",
    "            return None\n",
    "        if self.currHeapSize == 1:\n",
    "            self.currHeapSize -= 1\n",
    "            return self.data[0]\n",
    "\n",
    "        root = self.data[0]\n",
    "        self.currHeapSize -= 1\n",
    "        self.data[0] = self.data[self.currHeapSize]\n",
    "\n",
    "        self.heapify(0)\n",
    "\n",
    "        return root"
   ]
  },
  {
   "cell_type": "code",
   "execution_count": 35,
   "id": "68ad8a37-729d-415a-96cd-232b53e69c69",
   "metadata": {},
   "outputs": [],
   "source": [
    "data = [1, 2412, 42, 35, 5, 34, 56, 4, 63, 1, 345]\n",
    "\n",
    "maxSize = 32\n",
    "heap = max_heap(maxSize)"
   ]
  },
  {
   "cell_type": "code",
   "execution_count": 36,
   "id": "829298c7-7936-42b8-9e28-4ae7e9cb2170",
   "metadata": {},
   "outputs": [
    {
     "name": "stdout",
     "output_type": "stream",
     "text": [
      "1\n",
      "2412\n",
      "42\n",
      "35\n",
      "5\n",
      "34\n",
      "56\n",
      "4\n",
      "63\n",
      "1\n",
      "345\n"
     ]
    }
   ],
   "source": [
    "for d in data:\n",
    "    heap.insertData(d)\n",
    "    print(d)"
   ]
  },
  {
   "cell_type": "code",
   "execution_count": 37,
   "id": "e33f5050-8011-4ee0-bd6e-d21c10326441",
   "metadata": {},
   "outputs": [
    {
     "data": {
      "text/plain": [
       "[2412, 345, 56, 35, 63, 34, 42, 1, 4, 1, 5]"
      ]
     },
     "execution_count": 37,
     "metadata": {},
     "output_type": "execute_result"
    }
   ],
   "source": [
    "heap.data[0:heap.currHeapSize]"
   ]
  },
  {
   "cell_type": "code",
   "execution_count": 38,
   "id": "850c9fb2-de66-42db-bc52-39f9814b5fc7",
   "metadata": {},
   "outputs": [
    {
     "data": {
      "text/plain": [
       "2412"
      ]
     },
     "execution_count": 38,
     "metadata": {},
     "output_type": "execute_result"
    }
   ],
   "source": [
    "heap.removeMax()"
   ]
  },
  {
   "cell_type": "code",
   "execution_count": 39,
   "id": "82d21bdd-7ce2-42f6-9b4b-f3f9d14f03af",
   "metadata": {},
   "outputs": [
    {
     "data": {
      "text/plain": [
       "[345, 56, 5, 35, 63, 34, 42, 1, 4, 1]"
      ]
     },
     "execution_count": 39,
     "metadata": {},
     "output_type": "execute_result"
    }
   ],
   "source": [
    "heap.data[0:heap.currHeapSize]"
   ]
  },
  {
   "cell_type": "code",
   "execution_count": null,
   "id": "8c19d146-113e-4717-a2aa-9cbe1dec13d7",
   "metadata": {},
   "outputs": [],
   "source": []
  }
 ],
 "metadata": {
  "kernelspec": {
   "display_name": "Python 3 (ipykernel)",
   "language": "python",
   "name": "python3"
  },
  "language_info": {
   "codemirror_mode": {
    "name": "ipython",
    "version": 3
   },
   "file_extension": ".py",
   "mimetype": "text/x-python",
   "name": "python",
   "nbconvert_exporter": "python",
   "pygments_lexer": "ipython3",
   "version": "3.10.13"
  }
 },
 "nbformat": 4,
 "nbformat_minor": 5
}
