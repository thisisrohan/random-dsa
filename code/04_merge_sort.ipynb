{
 "cells": [
  {
   "cell_type": "code",
   "execution_count": 4,
   "id": "890fc3d4-8621-4289-b239-27a7ada07d0c",
   "metadata": {},
   "outputs": [],
   "source": [
    "import numpy as np"
   ]
  },
  {
   "cell_type": "code",
   "execution_count": 5,
   "id": "4ee91627-794b-4f35-95d8-22ea6a7ce8e4",
   "metadata": {},
   "outputs": [],
   "source": [
    "def merge_sorted_arr(arr, low1, high1, low2, high2):\n",
    "    p1 = low1\n",
    "    p2 = low2\n",
    "    n1 = high1 - low1\n",
    "    n2 = high2 - low2\n",
    "    new_arr = [None]*(n1+n2)\n",
    "    for i in range(n1+n2):\n",
    "        if p1 < high1 and p2 < high2:\n",
    "            if arr[p1] > arr[p2]:\n",
    "                new_arr[i] = arr[p2]\n",
    "                p2 += 1\n",
    "            else:\n",
    "                new_arr[i] = arr[p1]\n",
    "                p1 += 1\n",
    "        elif p1 < high1:\n",
    "            new_arr[i] = arr[p1]\n",
    "            p1 += 1\n",
    "        else:\n",
    "            new_arr[i] = arr[p2]\n",
    "            p2 += 1\n",
    "    counter = 0\n",
    "    for i in range(low1, high1):\n",
    "        arr[i] = new_arr[counter]\n",
    "        counter += 1\n",
    "    for i in range(low2, high2):\n",
    "        arr[i] = new_arr[counter]\n",
    "        counter += 1\n",
    "\n",
    "    return"
   ]
  },
  {
   "cell_type": "code",
   "execution_count": 19,
   "id": "1435aeaf-1e48-421a-80c4-ba0dd82d38bf",
   "metadata": {},
   "outputs": [],
   "source": [
    "def mergesort(arr, low=0, high=None):\n",
    "    if high == None:\n",
    "        high = len(arr)\n",
    "    N = high - low\n",
    "    if N <= 1:\n",
    "        return\n",
    "\n",
    "    mid = int(low + N//2)\n",
    "\n",
    "    low1 = low\n",
    "    high1 = mid\n",
    "    low2 = mid\n",
    "    high2 = high\n",
    "\n",
    "    # print(low1, high1, low2, high2)\n",
    "\n",
    "    mergesort(arr, low=low1, high=high1)\n",
    "    mergesort(arr, low=low2, high=high2)\n",
    "\n",
    "    merge_sorted_arr(arr, low1, high1, low2, high2)\n",
    "\n",
    "    return"
   ]
  },
  {
   "cell_type": "code",
   "execution_count": 20,
   "id": "54270c62-e2cc-4ba7-b97a-2532f4aa58fe",
   "metadata": {},
   "outputs": [],
   "source": [
    "a = np.random.randint(0, 100, 20)"
   ]
  },
  {
   "cell_type": "code",
   "execution_count": 21,
   "id": "6875d7bd-5d96-45fa-b97b-b30a625ac0c0",
   "metadata": {},
   "outputs": [
    {
     "data": {
      "text/plain": [
       "array([77,  1, 99, 44, 17, 60, 54, 43, 60, 89, 42, 54, 49, 15,  8, 40, 43,\n",
       "        6, 67,  1])"
      ]
     },
     "execution_count": 21,
     "metadata": {},
     "output_type": "execute_result"
    }
   ],
   "source": [
    "a"
   ]
  },
  {
   "cell_type": "code",
   "execution_count": 22,
   "id": "e3a01ad6-359b-4e36-b76b-3b73ca6529cb",
   "metadata": {},
   "outputs": [],
   "source": [
    "mergesort(a)"
   ]
  },
  {
   "cell_type": "code",
   "execution_count": 23,
   "id": "76f7abcd-c87d-4681-8ab8-f4be3493e3cf",
   "metadata": {},
   "outputs": [
    {
     "data": {
      "text/plain": [
       "array([ 1,  1,  6,  8, 15, 17, 40, 42, 43, 43, 44, 49, 54, 54, 60, 60, 67,\n",
       "       77, 89, 99])"
      ]
     },
     "execution_count": 23,
     "metadata": {},
     "output_type": "execute_result"
    }
   ],
   "source": [
    "a"
   ]
  },
  {
   "cell_type": "code",
   "execution_count": null,
   "id": "8d8e6933-9504-4598-a53a-80067b681b2c",
   "metadata": {},
   "outputs": [],
   "source": []
  }
 ],
 "metadata": {
  "kernelspec": {
   "display_name": "Python 3 (ipykernel)",
   "language": "python",
   "name": "python3"
  },
  "language_info": {
   "codemirror_mode": {
    "name": "ipython",
    "version": 3
   },
   "file_extension": ".py",
   "mimetype": "text/x-python",
   "name": "python",
   "nbconvert_exporter": "python",
   "pygments_lexer": "ipython3",
   "version": "3.10.13"
  }
 },
 "nbformat": 4,
 "nbformat_minor": 5
}
